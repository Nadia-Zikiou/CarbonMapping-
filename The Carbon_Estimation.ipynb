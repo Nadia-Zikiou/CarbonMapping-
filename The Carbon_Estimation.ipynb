{
 "cells": [
  {
   "cell_type": "code",
   "execution_count": null,
   "metadata": {},
   "outputs": [],
   "source": [
    "from utils.carbon_utils import estimate_agb_and_carbon_change\n",
    "\n",
    "workspace = r\"C:/Your path/CathPines\"\n",
    "agb_2016 = \"AGB_Estimate_Cathe2016.tif\"\n",
    "agb_2023 = \"AGB_Estimate_Cathe2023.tif\"\n",
    "output_dir = workspace\n",
    "\n",
    "estimate_agb_and_carbon_change(workspace, agb_2016, agb_2023, output_dir)\n"
   ]
  }
 ],
 "metadata": {
  "kernelspec": {
   "display_name": "ArcGISPro",
   "language": "Python",
   "name": "python3"
  },
  "language_info": {
   "file_extension": ".py",
   "name": "python",
   "version": "3"
  }
 },
 "nbformat": 4,
 "nbformat_minor": 2
}
